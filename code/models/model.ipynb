{
 "cells": [
  {
   "cell_type": "markdown",
   "metadata": {},
   "source": [
    "# Install Requirements"
   ]
  },
  {
   "cell_type": "code",
   "execution_count": 1,
   "metadata": {},
   "outputs": [
    {
     "name": "stdout",
     "output_type": "stream",
     "text": [
      "Requirement already satisfied: numpy in /home/surrogate/anaconda3/envs/tf-env/lib/python3.10/site-packages (from -r requirements.txt (line 1)) (1.26.4)\n",
      "Requirement already satisfied: pandas in /home/surrogate/anaconda3/envs/tf-env/lib/python3.10/site-packages (from -r requirements.txt (line 2)) (2.2.2)\n",
      "Requirement already satisfied: aaindex in /home/surrogate/anaconda3/envs/tf-env/lib/python3.10/site-packages (from -r requirements.txt (line 3)) (1.1.2)\n",
      "Requirement already satisfied: scipy in /home/surrogate/anaconda3/envs/tf-env/lib/python3.10/site-packages (from -r requirements.txt (line 4)) (1.14.0)\n",
      "Requirement already satisfied: tables in /home/surrogate/anaconda3/envs/tf-env/lib/python3.10/site-packages (from -r requirements.txt (line 5)) (3.9.2)\n",
      "Requirement already satisfied: matplotlib in /home/surrogate/anaconda3/envs/tf-env/lib/python3.10/site-packages (from -r requirements.txt (line 6)) (3.9.1)\n",
      "Requirement already satisfied: statsmodels in /home/surrogate/anaconda3/envs/tf-env/lib/python3.10/site-packages (from -r requirements.txt (line 7)) (0.14.2)\n",
      "Requirement already satisfied: openpyxl in /home/surrogate/anaconda3/envs/tf-env/lib/python3.10/site-packages (from -r requirements.txt (line 8)) (3.1.5)\n",
      "Requirement already satisfied: keras in /home/surrogate/anaconda3/envs/tf-env/lib/python3.10/site-packages (from -r requirements.txt (line 9)) (3.0.5)\n",
      "Requirement already satisfied: scikit-learn in /home/surrogate/anaconda3/envs/tf-env/lib/python3.10/site-packages (from -r requirements.txt (line 10)) (1.5.1)\n",
      "Requirement already satisfied: python-dateutil>=2.8.2 in /home/surrogate/anaconda3/envs/tf-env/lib/python3.10/site-packages (from pandas->-r requirements.txt (line 2)) (2.9.0)\n",
      "Requirement already satisfied: pytz>=2020.1 in /home/surrogate/anaconda3/envs/tf-env/lib/python3.10/site-packages (from pandas->-r requirements.txt (line 2)) (2024.1)\n",
      "Requirement already satisfied: tzdata>=2022.7 in /home/surrogate/anaconda3/envs/tf-env/lib/python3.10/site-packages (from pandas->-r requirements.txt (line 2)) (2024.1)\n",
      "Requirement already satisfied: numexpr>=2.6.2 in /home/surrogate/anaconda3/envs/tf-env/lib/python3.10/site-packages (from tables->-r requirements.txt (line 5)) (2.10.1)\n",
      "Requirement already satisfied: packaging in /home/surrogate/anaconda3/envs/tf-env/lib/python3.10/site-packages (from tables->-r requirements.txt (line 5)) (24.1)\n",
      "Requirement already satisfied: py-cpuinfo in /home/surrogate/anaconda3/envs/tf-env/lib/python3.10/site-packages (from tables->-r requirements.txt (line 5)) (9.0.0)\n",
      "Requirement already satisfied: blosc2>=2.3.0 in /home/surrogate/anaconda3/envs/tf-env/lib/python3.10/site-packages (from tables->-r requirements.txt (line 5)) (2.7.0)\n",
      "Requirement already satisfied: contourpy>=1.0.1 in /home/surrogate/anaconda3/envs/tf-env/lib/python3.10/site-packages (from matplotlib->-r requirements.txt (line 6)) (1.2.1)\n",
      "Requirement already satisfied: cycler>=0.10 in /home/surrogate/anaconda3/envs/tf-env/lib/python3.10/site-packages (from matplotlib->-r requirements.txt (line 6)) (0.12.1)\n",
      "Requirement already satisfied: fonttools>=4.22.0 in /home/surrogate/anaconda3/envs/tf-env/lib/python3.10/site-packages (from matplotlib->-r requirements.txt (line 6)) (4.53.1)\n",
      "Requirement already satisfied: kiwisolver>=1.3.1 in /home/surrogate/anaconda3/envs/tf-env/lib/python3.10/site-packages (from matplotlib->-r requirements.txt (line 6)) (1.4.5)\n",
      "Requirement already satisfied: pillow>=8 in /home/surrogate/anaconda3/envs/tf-env/lib/python3.10/site-packages (from matplotlib->-r requirements.txt (line 6)) (10.4.0)\n",
      "Requirement already satisfied: pyparsing>=2.3.1 in /home/surrogate/anaconda3/envs/tf-env/lib/python3.10/site-packages (from matplotlib->-r requirements.txt (line 6)) (3.1.2)\n",
      "Requirement already satisfied: patsy>=0.5.6 in /home/surrogate/anaconda3/envs/tf-env/lib/python3.10/site-packages (from statsmodels->-r requirements.txt (line 7)) (0.5.6)\n",
      "Requirement already satisfied: et-xmlfile in /home/surrogate/anaconda3/envs/tf-env/lib/python3.10/site-packages (from openpyxl->-r requirements.txt (line 8)) (1.1.0)\n",
      "Requirement already satisfied: absl-py in /home/surrogate/anaconda3/envs/tf-env/lib/python3.10/site-packages (from keras->-r requirements.txt (line 9)) (2.1.0)\n",
      "Requirement already satisfied: rich in /home/surrogate/anaconda3/envs/tf-env/lib/python3.10/site-packages (from keras->-r requirements.txt (line 9)) (13.7.1)\n",
      "Requirement already satisfied: namex in /home/surrogate/anaconda3/envs/tf-env/lib/python3.10/site-packages (from keras->-r requirements.txt (line 9)) (0.0.7)\n",
      "Requirement already satisfied: h5py in /home/surrogate/anaconda3/envs/tf-env/lib/python3.10/site-packages (from keras->-r requirements.txt (line 9)) (3.11.0)\n",
      "Requirement already satisfied: dm-tree in /home/surrogate/anaconda3/envs/tf-env/lib/python3.10/site-packages (from keras->-r requirements.txt (line 9)) (0.1.7)\n",
      "Requirement already satisfied: ml-dtypes in /home/surrogate/anaconda3/envs/tf-env/lib/python3.10/site-packages (from keras->-r requirements.txt (line 9)) (0.3.1)\n",
      "Requirement already satisfied: joblib>=1.2.0 in /home/surrogate/anaconda3/envs/tf-env/lib/python3.10/site-packages (from scikit-learn->-r requirements.txt (line 10)) (1.4.2)\n",
      "Requirement already satisfied: threadpoolctl>=3.1.0 in /home/surrogate/anaconda3/envs/tf-env/lib/python3.10/site-packages (from scikit-learn->-r requirements.txt (line 10)) (3.5.0)\n",
      "Requirement already satisfied: ndindex>=1.4 in /home/surrogate/anaconda3/envs/tf-env/lib/python3.10/site-packages (from blosc2>=2.3.0->tables->-r requirements.txt (line 5)) (1.8)\n",
      "Requirement already satisfied: msgpack in /home/surrogate/anaconda3/envs/tf-env/lib/python3.10/site-packages (from blosc2>=2.3.0->tables->-r requirements.txt (line 5)) (1.0.8)\n",
      "Requirement already satisfied: six in /home/surrogate/anaconda3/envs/tf-env/lib/python3.10/site-packages (from patsy>=0.5.6->statsmodels->-r requirements.txt (line 7)) (1.16.0)\n",
      "Requirement already satisfied: markdown-it-py>=2.2.0 in /home/surrogate/anaconda3/envs/tf-env/lib/python3.10/site-packages (from rich->keras->-r requirements.txt (line 9)) (2.2.0)\n",
      "Requirement already satisfied: pygments<3.0.0,>=2.13.0 in /home/surrogate/anaconda3/envs/tf-env/lib/python3.10/site-packages (from rich->keras->-r requirements.txt (line 9)) (2.15.1)\n",
      "Requirement already satisfied: mdurl~=0.1 in /home/surrogate/anaconda3/envs/tf-env/lib/python3.10/site-packages (from markdown-it-py>=2.2.0->rich->keras->-r requirements.txt (line 9)) (0.1.0)\n",
      "Note: you may need to restart the kernel to use updated packages.\n"
     ]
    }
   ],
   "source": [
    "pip install -r requirements.txt"
   ]
  },
  {
   "cell_type": "markdown",
   "metadata": {},
   "source": [
    "# GPU"
   ]
  },
  {
   "cell_type": "code",
   "execution_count": 2,
   "metadata": {},
   "outputs": [],
   "source": [
    "#pip install tensorflow[and-cuda]\n",
    "#pip install tensorrt"
   ]
  },
  {
   "cell_type": "markdown",
   "metadata": {},
   "source": [
    "# CPU"
   ]
  },
  {
   "cell_type": "code",
   "execution_count": 3,
   "metadata": {},
   "outputs": [],
   "source": [
    "#pip install tensorflow"
   ]
  },
  {
   "cell_type": "code",
   "execution_count": 1,
   "metadata": {},
   "outputs": [
    {
     "name": "stderr",
     "output_type": "stream",
     "text": [
      "2024-07-16 15:29:10.134101: E external/local_xla/xla/stream_executor/cuda/cuda_dnn.cc:10575] Unable to register cuDNN factory: Attempting to register factory for plugin cuDNN when one has already been registered\n",
      "2024-07-16 15:29:10.134128: E external/local_xla/xla/stream_executor/cuda/cuda_fft.cc:479] Unable to register cuFFT factory: Attempting to register factory for plugin cuFFT when one has already been registered\n",
      "2024-07-16 15:29:10.201400: E external/local_xla/xla/stream_executor/cuda/cuda_blas.cc:1442] Unable to register cuBLAS factory: Attempting to register factory for plugin cuBLAS when one has already been registered\n",
      "2024-07-16 15:29:10.252796: I tensorflow/core/platform/cpu_feature_guard.cc:210] This TensorFlow binary is optimized to use available CPU instructions in performance-critical operations.\n",
      "To enable the following instructions: SSE4.1 SSE4.2 AVX AVX2 FMA, in other operations, rebuild TensorFlow with the appropriate compiler flags.\n"
     ]
    }
   ],
   "source": [
    "import pandas as pd\n",
    "import numpy as np\n",
    "from helper import create_xy\n",
    "#import tensorrt\n",
    "import tensorflow as tf\n",
    "import keras\n",
    "from keras.layers import Dense, Flatten, Conv1D, MaxPooling1D, Dropout\n",
    "from keras.models import Sequential\n",
    "from sklearn.preprocessing import LabelBinarizer\n",
    "from sklearn.model_selection import train_test_split\n",
    "import matplotlib.pylab as plt"
   ]
  },
  {
   "cell_type": "code",
   "execution_count": 2,
   "metadata": {},
   "outputs": [
    {
     "name": "stdout",
     "output_type": "stream",
     "text": [
      "Num GPUs Available:  1\n"
     ]
    },
    {
     "name": "stderr",
     "output_type": "stream",
     "text": [
      "2024-07-16 15:29:31.600025: I external/local_xla/xla/stream_executor/cuda/cuda_executor.cc:998] successful NUMA node read from SysFS had negative value (-1), but there must be at least one NUMA node, so returning NUMA node zero. See more at https://github.com/torvalds/linux/blob/v6.0/Documentation/ABI/testing/sysfs-bus-pci#L344-L355\n",
      "2024-07-16 15:29:31.880452: I external/local_xla/xla/stream_executor/cuda/cuda_executor.cc:998] successful NUMA node read from SysFS had negative value (-1), but there must be at least one NUMA node, so returning NUMA node zero. See more at https://github.com/torvalds/linux/blob/v6.0/Documentation/ABI/testing/sysfs-bus-pci#L344-L355\n",
      "2024-07-16 15:29:31.880839: I external/local_xla/xla/stream_executor/cuda/cuda_executor.cc:998] successful NUMA node read from SysFS had negative value (-1), but there must be at least one NUMA node, so returning NUMA node zero. See more at https://github.com/torvalds/linux/blob/v6.0/Documentation/ABI/testing/sysfs-bus-pci#L344-L355\n"
     ]
    }
   ],
   "source": [
    "print(\"Num GPUs Available: \", len(tf.config.list_physical_devices('GPU')))"
   ]
  },
  {
   "cell_type": "code",
   "execution_count": 3,
   "metadata": {},
   "outputs": [
    {
     "name": "stderr",
     "output_type": "stream",
     "text": [
      "/home/surrogate/anaconda3/envs/tf-env/lib/python3.10/site-packages/openpyxl/worksheet/_reader.py:329: UserWarning: Unknown extension is not supported and will be removed\n",
      "  warn(msg)\n"
     ]
    }
   ],
   "source": [
    "df = pd.read_excel(\"../data/gbd1_data.xlsx\", header=2, usecols=\"B:K,N:R\")\n",
    "f = open(\"../data/base_gbd1.txt\")\n",
    "base = f.readline()\n",
    "f.close()"
   ]
  },
  {
   "cell_type": "code",
   "execution_count": 4,
   "metadata": {},
   "outputs": [],
   "source": [
    "mutants, fitness = create_xy(df, base)"
   ]
  },
  {
   "cell_type": "code",
   "execution_count": 5,
   "metadata": {},
   "outputs": [],
   "source": [
    "def aa_identity(aa):\n",
    "    aa_string = \"ARNDCQEGHILKMFPSTWYV\"\n",
    "    for i in range(len(aa_string)):\n",
    "        if aa == aa_string[i]:\n",
    "            return i"
   ]
  },
  {
   "cell_type": "code",
   "execution_count": 6,
   "metadata": {},
   "outputs": [
    {
     "name": "stdout",
     "output_type": "stream",
     "text": [
      "(535917, 20, 56)\n",
      "(535917, 2)\n"
     ]
    }
   ],
   "source": [
    "def m_identity(mt):\n",
    "    mi = np.zeros((20, len(mt)))\n",
    "    for i in range(len(mt)):\n",
    "        row = aa_identity(mt[i])\n",
    "        mi[row][i] = 1\n",
    "    return mi\n",
    "\n",
    "mutant_identity = []\n",
    "for mutant in mutants:\n",
    "    mutant_identity.append(m_identity(mutant))\n",
    "mutant_identity = np.array(mutant_identity)\n",
    "print(mutant_identity.shape)\n",
    "print(fitness.shape)"
   ]
  },
  {
   "cell_type": "code",
   "execution_count": 7,
   "metadata": {},
   "outputs": [
    {
     "name": "stdout",
     "output_type": "stream",
     "text": [
      "(428733, 20, 56)\n",
      "(107184, 20, 56)\n",
      "(428733, 2)\n",
      "(107184, 2)\n"
     ]
    }
   ],
   "source": [
    "x_train, x_test, y_train, y_test = train_test_split(mutant_identity, fitness, test_size=0.2, shuffle=True, random_state=15)\n",
    "print(f\"{x_train.shape}\\n{x_test.shape}\\n{y_train.shape}\\n{y_test.shape}\")\n"
   ]
  },
  {
   "cell_type": "code",
   "execution_count": 11,
   "metadata": {},
   "outputs": [],
   "source": [
    "mutant_identity = None\n",
    "df = None\n",
    "mutants = None\n",
    "fitness = None"
   ]
  },
  {
   "cell_type": "code",
   "execution_count": 12,
   "metadata": {},
   "outputs": [],
   "source": [
    "def model_1(x_train, y_train, x_test, y_test, epochs=20, batch_size=64):\n",
    "    model = Sequential()\n",
    "    model.add(keras.Input((20,56)))\n",
    "    #model.add(Flatten())\n",
    "    model.add(Conv1D(filters=128, kernel_size=12, activation='relu', use_bias=True, padding='same'))\n",
    "    model.add(MaxPooling1D(2))    \n",
    "    model.add(Conv1D(filters=64, kernel_size=6, activation='relu', use_bias=True))\n",
    "    model.add(Conv1D(filters=32, kernel_size=4, activation='relu', use_bias=True))\n",
    "    model.add(Flatten())\n",
    "    model.add(Dense(128, activation='relu')) #evt tilføj dropout istedet for så mange dense layers\n",
    "    model.add(Dense(64, activation='relu'))\n",
    "    model.add(Dense(32, activation='relu'))\n",
    "    model.add(Dense(2, activation='softmax'))  # Change to the appropriate number of classes for multi-class classification\n",
    "    model.summary()\n",
    "    model.compile(loss='mse', optimizer='adam', metrics=['accuracy'])\n",
    "    history = model.fit(x_train, y_train, epochs=epochs, batch_size=batch_size, verbose=1, validation_data=(x_test, y_test))\n",
    "    return model, history"
   ]
  },
  {
   "cell_type": "code",
   "execution_count": 13,
   "metadata": {},
   "outputs": [
    {
     "name": "stderr",
     "output_type": "stream",
     "text": [
      "2024-07-16 15:02:10.763338: I external/local_xla/xla/stream_executor/cuda/cuda_executor.cc:998] successful NUMA node read from SysFS had negative value (-1), but there must be at least one NUMA node, so returning NUMA node zero. See more at https://github.com/torvalds/linux/blob/v6.0/Documentation/ABI/testing/sysfs-bus-pci#L344-L355\n",
      "2024-07-16 15:02:10.764983: I external/local_xla/xla/stream_executor/cuda/cuda_executor.cc:998] successful NUMA node read from SysFS had negative value (-1), but there must be at least one NUMA node, so returning NUMA node zero. See more at https://github.com/torvalds/linux/blob/v6.0/Documentation/ABI/testing/sysfs-bus-pci#L344-L355\n",
      "2024-07-16 15:02:10.765186: I external/local_xla/xla/stream_executor/cuda/cuda_executor.cc:998] successful NUMA node read from SysFS had negative value (-1), but there must be at least one NUMA node, so returning NUMA node zero. See more at https://github.com/torvalds/linux/blob/v6.0/Documentation/ABI/testing/sysfs-bus-pci#L344-L355\n",
      "2024-07-16 15:02:11.009424: I external/local_xla/xla/stream_executor/cuda/cuda_executor.cc:998] successful NUMA node read from SysFS had negative value (-1), but there must be at least one NUMA node, so returning NUMA node zero. See more at https://github.com/torvalds/linux/blob/v6.0/Documentation/ABI/testing/sysfs-bus-pci#L344-L355\n",
      "2024-07-16 15:02:11.010773: I external/local_xla/xla/stream_executor/cuda/cuda_executor.cc:998] successful NUMA node read from SysFS had negative value (-1), but there must be at least one NUMA node, so returning NUMA node zero. See more at https://github.com/torvalds/linux/blob/v6.0/Documentation/ABI/testing/sysfs-bus-pci#L344-L355\n",
      "2024-07-16 15:02:11.011207: I external/local_xla/xla/stream_executor/cuda/cuda_executor.cc:998] successful NUMA node read from SysFS had negative value (-1), but there must be at least one NUMA node, so returning NUMA node zero. See more at https://github.com/torvalds/linux/blob/v6.0/Documentation/ABI/testing/sysfs-bus-pci#L344-L355\n",
      "2024-07-16 15:02:11.011446: I tensorflow/core/common_runtime/gpu/gpu_device.cc:1928] Created device /job:localhost/replica:0/task:0/device:GPU:0 with 4979 MB memory:  -> device: 0, name: NVIDIA GeForce GTX 1060 6GB, pci bus id: 0000:09:00.0, compute capability: 6.1\n"
     ]
    },
    {
     "data": {
      "text/html": [
       "<pre style=\"white-space:pre;overflow-x:auto;line-height:normal;font-family:Menlo,'DejaVu Sans Mono',consolas,'Courier New',monospace\"><span style=\"font-weight: bold\">Model: \"sequential\"</span>\n",
       "</pre>\n"
      ],
      "text/plain": [
       "\u001b[1mModel: \"sequential\"\u001b[0m\n"
      ]
     },
     "metadata": {},
     "output_type": "display_data"
    },
    {
     "data": {
      "text/html": [
       "<pre style=\"white-space:pre;overflow-x:auto;line-height:normal;font-family:Menlo,'DejaVu Sans Mono',consolas,'Courier New',monospace\">┏━━━━━━━━━━━━━━━━━━━━━━━━━━━━━━━━━┳━━━━━━━━━━━━━━━━━━━━━━━━┳━━━━━━━━━━━━━━━┓\n",
       "┃<span style=\"font-weight: bold\"> Layer (type)                    </span>┃<span style=\"font-weight: bold\"> Output Shape           </span>┃<span style=\"font-weight: bold\">       Param # </span>┃\n",
       "┡━━━━━━━━━━━━━━━━━━━━━━━━━━━━━━━━━╇━━━━━━━━━━━━━━━━━━━━━━━━╇━━━━━━━━━━━━━━━┩\n",
       "│ conv1d (<span style=\"color: #0087ff; text-decoration-color: #0087ff\">Conv1D</span>)                 │ (<span style=\"color: #00d7ff; text-decoration-color: #00d7ff\">None</span>, <span style=\"color: #00af00; text-decoration-color: #00af00\">20</span>, <span style=\"color: #00af00; text-decoration-color: #00af00\">128</span>)        │        <span style=\"color: #00af00; text-decoration-color: #00af00\">86,144</span> │\n",
       "├─────────────────────────────────┼────────────────────────┼───────────────┤\n",
       "│ max_pooling1d (<span style=\"color: #0087ff; text-decoration-color: #0087ff\">MaxPooling1D</span>)    │ (<span style=\"color: #00d7ff; text-decoration-color: #00d7ff\">None</span>, <span style=\"color: #00af00; text-decoration-color: #00af00\">10</span>, <span style=\"color: #00af00; text-decoration-color: #00af00\">128</span>)        │             <span style=\"color: #00af00; text-decoration-color: #00af00\">0</span> │\n",
       "├─────────────────────────────────┼────────────────────────┼───────────────┤\n",
       "│ conv1d_1 (<span style=\"color: #0087ff; text-decoration-color: #0087ff\">Conv1D</span>)               │ (<span style=\"color: #00d7ff; text-decoration-color: #00d7ff\">None</span>, <span style=\"color: #00af00; text-decoration-color: #00af00\">5</span>, <span style=\"color: #00af00; text-decoration-color: #00af00\">64</span>)          │        <span style=\"color: #00af00; text-decoration-color: #00af00\">49,216</span> │\n",
       "├─────────────────────────────────┼────────────────────────┼───────────────┤\n",
       "│ conv1d_2 (<span style=\"color: #0087ff; text-decoration-color: #0087ff\">Conv1D</span>)               │ (<span style=\"color: #00d7ff; text-decoration-color: #00d7ff\">None</span>, <span style=\"color: #00af00; text-decoration-color: #00af00\">2</span>, <span style=\"color: #00af00; text-decoration-color: #00af00\">32</span>)          │         <span style=\"color: #00af00; text-decoration-color: #00af00\">8,224</span> │\n",
       "├─────────────────────────────────┼────────────────────────┼───────────────┤\n",
       "│ flatten (<span style=\"color: #0087ff; text-decoration-color: #0087ff\">Flatten</span>)               │ (<span style=\"color: #00d7ff; text-decoration-color: #00d7ff\">None</span>, <span style=\"color: #00af00; text-decoration-color: #00af00\">64</span>)             │             <span style=\"color: #00af00; text-decoration-color: #00af00\">0</span> │\n",
       "├─────────────────────────────────┼────────────────────────┼───────────────┤\n",
       "│ dense (<span style=\"color: #0087ff; text-decoration-color: #0087ff\">Dense</span>)                   │ (<span style=\"color: #00d7ff; text-decoration-color: #00d7ff\">None</span>, <span style=\"color: #00af00; text-decoration-color: #00af00\">128</span>)            │         <span style=\"color: #00af00; text-decoration-color: #00af00\">8,320</span> │\n",
       "├─────────────────────────────────┼────────────────────────┼───────────────┤\n",
       "│ dense_1 (<span style=\"color: #0087ff; text-decoration-color: #0087ff\">Dense</span>)                 │ (<span style=\"color: #00d7ff; text-decoration-color: #00d7ff\">None</span>, <span style=\"color: #00af00; text-decoration-color: #00af00\">64</span>)             │         <span style=\"color: #00af00; text-decoration-color: #00af00\">8,256</span> │\n",
       "├─────────────────────────────────┼────────────────────────┼───────────────┤\n",
       "│ dense_2 (<span style=\"color: #0087ff; text-decoration-color: #0087ff\">Dense</span>)                 │ (<span style=\"color: #00d7ff; text-decoration-color: #00d7ff\">None</span>, <span style=\"color: #00af00; text-decoration-color: #00af00\">32</span>)             │         <span style=\"color: #00af00; text-decoration-color: #00af00\">2,080</span> │\n",
       "├─────────────────────────────────┼────────────────────────┼───────────────┤\n",
       "│ dense_3 (<span style=\"color: #0087ff; text-decoration-color: #0087ff\">Dense</span>)                 │ (<span style=\"color: #00d7ff; text-decoration-color: #00d7ff\">None</span>, <span style=\"color: #00af00; text-decoration-color: #00af00\">2</span>)              │            <span style=\"color: #00af00; text-decoration-color: #00af00\">66</span> │\n",
       "└─────────────────────────────────┴────────────────────────┴───────────────┘\n",
       "</pre>\n"
      ],
      "text/plain": [
       "┏━━━━━━━━━━━━━━━━━━━━━━━━━━━━━━━━━┳━━━━━━━━━━━━━━━━━━━━━━━━┳━━━━━━━━━━━━━━━┓\n",
       "┃\u001b[1m \u001b[0m\u001b[1mLayer (type)                   \u001b[0m\u001b[1m \u001b[0m┃\u001b[1m \u001b[0m\u001b[1mOutput Shape          \u001b[0m\u001b[1m \u001b[0m┃\u001b[1m \u001b[0m\u001b[1m      Param #\u001b[0m\u001b[1m \u001b[0m┃\n",
       "┡━━━━━━━━━━━━━━━━━━━━━━━━━━━━━━━━━╇━━━━━━━━━━━━━━━━━━━━━━━━╇━━━━━━━━━━━━━━━┩\n",
       "│ conv1d (\u001b[38;5;33mConv1D\u001b[0m)                 │ (\u001b[38;5;45mNone\u001b[0m, \u001b[38;5;34m20\u001b[0m, \u001b[38;5;34m128\u001b[0m)        │        \u001b[38;5;34m86,144\u001b[0m │\n",
       "├─────────────────────────────────┼────────────────────────┼───────────────┤\n",
       "│ max_pooling1d (\u001b[38;5;33mMaxPooling1D\u001b[0m)    │ (\u001b[38;5;45mNone\u001b[0m, \u001b[38;5;34m10\u001b[0m, \u001b[38;5;34m128\u001b[0m)        │             \u001b[38;5;34m0\u001b[0m │\n",
       "├─────────────────────────────────┼────────────────────────┼───────────────┤\n",
       "│ conv1d_1 (\u001b[38;5;33mConv1D\u001b[0m)               │ (\u001b[38;5;45mNone\u001b[0m, \u001b[38;5;34m5\u001b[0m, \u001b[38;5;34m64\u001b[0m)          │        \u001b[38;5;34m49,216\u001b[0m │\n",
       "├─────────────────────────────────┼────────────────────────┼───────────────┤\n",
       "│ conv1d_2 (\u001b[38;5;33mConv1D\u001b[0m)               │ (\u001b[38;5;45mNone\u001b[0m, \u001b[38;5;34m2\u001b[0m, \u001b[38;5;34m32\u001b[0m)          │         \u001b[38;5;34m8,224\u001b[0m │\n",
       "├─────────────────────────────────┼────────────────────────┼───────────────┤\n",
       "│ flatten (\u001b[38;5;33mFlatten\u001b[0m)               │ (\u001b[38;5;45mNone\u001b[0m, \u001b[38;5;34m64\u001b[0m)             │             \u001b[38;5;34m0\u001b[0m │\n",
       "├─────────────────────────────────┼────────────────────────┼───────────────┤\n",
       "│ dense (\u001b[38;5;33mDense\u001b[0m)                   │ (\u001b[38;5;45mNone\u001b[0m, \u001b[38;5;34m128\u001b[0m)            │         \u001b[38;5;34m8,320\u001b[0m │\n",
       "├─────────────────────────────────┼────────────────────────┼───────────────┤\n",
       "│ dense_1 (\u001b[38;5;33mDense\u001b[0m)                 │ (\u001b[38;5;45mNone\u001b[0m, \u001b[38;5;34m64\u001b[0m)             │         \u001b[38;5;34m8,256\u001b[0m │\n",
       "├─────────────────────────────────┼────────────────────────┼───────────────┤\n",
       "│ dense_2 (\u001b[38;5;33mDense\u001b[0m)                 │ (\u001b[38;5;45mNone\u001b[0m, \u001b[38;5;34m32\u001b[0m)             │         \u001b[38;5;34m2,080\u001b[0m │\n",
       "├─────────────────────────────────┼────────────────────────┼───────────────┤\n",
       "│ dense_3 (\u001b[38;5;33mDense\u001b[0m)                 │ (\u001b[38;5;45mNone\u001b[0m, \u001b[38;5;34m2\u001b[0m)              │            \u001b[38;5;34m66\u001b[0m │\n",
       "└─────────────────────────────────┴────────────────────────┴───────────────┘\n"
      ]
     },
     "metadata": {},
     "output_type": "display_data"
    },
    {
     "data": {
      "text/html": [
       "<pre style=\"white-space:pre;overflow-x:auto;line-height:normal;font-family:Menlo,'DejaVu Sans Mono',consolas,'Courier New',monospace\"><span style=\"font-weight: bold\"> Total params: </span><span style=\"color: #00af00; text-decoration-color: #00af00\">162,306</span> (634.01 KB)\n",
       "</pre>\n"
      ],
      "text/plain": [
       "\u001b[1m Total params: \u001b[0m\u001b[38;5;34m162,306\u001b[0m (634.01 KB)\n"
      ]
     },
     "metadata": {},
     "output_type": "display_data"
    },
    {
     "data": {
      "text/html": [
       "<pre style=\"white-space:pre;overflow-x:auto;line-height:normal;font-family:Menlo,'DejaVu Sans Mono',consolas,'Courier New',monospace\"><span style=\"font-weight: bold\"> Trainable params: </span><span style=\"color: #00af00; text-decoration-color: #00af00\">162,306</span> (634.01 KB)\n",
       "</pre>\n"
      ],
      "text/plain": [
       "\u001b[1m Trainable params: \u001b[0m\u001b[38;5;34m162,306\u001b[0m (634.01 KB)\n"
      ]
     },
     "metadata": {},
     "output_type": "display_data"
    },
    {
     "data": {
      "text/html": [
       "<pre style=\"white-space:pre;overflow-x:auto;line-height:normal;font-family:Menlo,'DejaVu Sans Mono',consolas,'Courier New',monospace\"><span style=\"font-weight: bold\"> Non-trainable params: </span><span style=\"color: #00af00; text-decoration-color: #00af00\">0</span> (0.00 B)\n",
       "</pre>\n"
      ],
      "text/plain": [
       "\u001b[1m Non-trainable params: \u001b[0m\u001b[38;5;34m0\u001b[0m (0.00 B)\n"
      ]
     },
     "metadata": {},
     "output_type": "display_data"
    },
    {
     "name": "stderr",
     "output_type": "stream",
     "text": [
      "2024-07-16 15:02:12.115928: W external/local_tsl/tsl/framework/cpu_allocator_impl.cc:83] Allocation of 1920723840 exceeds 10% of free system memory.\n",
      "2024-07-16 15:02:15.106396: W external/local_tsl/tsl/framework/cpu_allocator_impl.cc:83] Allocation of 1920723840 exceeds 10% of free system memory.\n"
     ]
    },
    {
     "name": "stdout",
     "output_type": "stream",
     "text": [
      "Epoch 1/20\n"
     ]
    },
    {
     "name": "stderr",
     "output_type": "stream",
     "text": [
      "WARNING: All log messages before absl::InitializeLog() is called are written to STDERR\n",
      "I0000 00:00:1721134937.289298   53630 service.cc:145] XLA service 0x71ae20002230 initialized for platform CUDA (this does not guarantee that XLA will be used). Devices:\n",
      "I0000 00:00:1721134937.289335   53630 service.cc:153]   StreamExecutor device (0): NVIDIA GeForce GTX 1060 6GB, Compute Capability 6.1\n",
      "2024-07-16 15:02:17.372602: I tensorflow/compiler/mlir/tensorflow/utils/dump_mlir_util.cc:268] disabling MLIR crash reproducer, set env var `MLIR_CRASH_REPRODUCER_DIRECTORY` to enable.\n",
      "2024-07-16 15:02:17.735441: I external/local_xla/xla/stream_executor/cuda/cuda_dnn.cc:465] Loaded cuDNN version 8907\n"
     ]
    },
    {
     "name": "stdout",
     "output_type": "stream",
     "text": [
      "\u001b[1m  77/6699\u001b[0m \u001b[37m━━━━━━━━━━━━━━━━━━━━\u001b[0m \u001b[1m13s\u001b[0m 2ms/step - accuracy: 0.5175 - loss: 0.5092 "
     ]
    },
    {
     "name": "stderr",
     "output_type": "stream",
     "text": [
      "I0000 00:00:1721134939.724636   53630 device_compiler.h:188] Compiled cluster using XLA!  This line is logged at most once for the lifetime of the process.\n"
     ]
    },
    {
     "name": "stdout",
     "output_type": "stream",
     "text": [
      "\u001b[1m6699/6699\u001b[0m \u001b[32m━━━━━━━━━━━━━━━━━━━━\u001b[0m\u001b[37m\u001b[0m \u001b[1m23s\u001b[0m 3ms/step - accuracy: 0.7666 - loss: 0.3831 - val_accuracy: 0.8803 - val_loss: 0.3197\n",
      "Epoch 2/20\n",
      "\u001b[1m6699/6699\u001b[0m \u001b[32m━━━━━━━━━━━━━━━━━━━━\u001b[0m\u001b[37m\u001b[0m \u001b[1m14s\u001b[0m 2ms/step - accuracy: 0.8828 - loss: 0.3225 - val_accuracy: 0.9108 - val_loss: 0.3136\n",
      "Epoch 3/20\n",
      "\u001b[1m6699/6699\u001b[0m \u001b[32m━━━━━━━━━━━━━━━━━━━━\u001b[0m\u001b[37m\u001b[0m \u001b[1m14s\u001b[0m 2ms/step - accuracy: 0.9047 - loss: 0.3201 - val_accuracy: 0.8997 - val_loss: 0.3159\n",
      "Epoch 4/20\n",
      "\u001b[1m6699/6699\u001b[0m \u001b[32m━━━━━━━━━━━━━━━━━━━━\u001b[0m\u001b[37m\u001b[0m \u001b[1m14s\u001b[0m 2ms/step - accuracy: 0.9086 - loss: 0.3155 - val_accuracy: 0.9351 - val_loss: 0.3093\n",
      "Epoch 5/20\n",
      "\u001b[1m6699/6699\u001b[0m \u001b[32m━━━━━━━━━━━━━━━━━━━━\u001b[0m\u001b[37m\u001b[0m \u001b[1m14s\u001b[0m 2ms/step - accuracy: 0.9273 - loss: 0.3135 - val_accuracy: 0.9419 - val_loss: 0.3077\n",
      "Epoch 6/20\n",
      "\u001b[1m6699/6699\u001b[0m \u001b[32m━━━━━━━━━━━━━━━━━━━━\u001b[0m\u001b[37m\u001b[0m \u001b[1m14s\u001b[0m 2ms/step - accuracy: 0.9317 - loss: 0.3125 - val_accuracy: 0.9143 - val_loss: 0.3112\n",
      "Epoch 7/20\n",
      "\u001b[1m6699/6699\u001b[0m \u001b[32m━━━━━━━━━━━━━━━━━━━━\u001b[0m\u001b[37m\u001b[0m \u001b[1m14s\u001b[0m 2ms/step - accuracy: 0.9345 - loss: 0.3144 - val_accuracy: 0.9417 - val_loss: 0.3075\n",
      "Epoch 8/20\n",
      "\u001b[1m6699/6699\u001b[0m \u001b[32m━━━━━━━━━━━━━━━━━━━━\u001b[0m\u001b[37m\u001b[0m \u001b[1m14s\u001b[0m 2ms/step - accuracy: 0.9381 - loss: 0.3108 - val_accuracy: 0.9502 - val_loss: 0.3067\n",
      "Epoch 9/20\n",
      "\u001b[1m6699/6699\u001b[0m \u001b[32m━━━━━━━━━━━━━━━━━━━━\u001b[0m\u001b[37m\u001b[0m \u001b[1m15s\u001b[0m 2ms/step - accuracy: 0.9380 - loss: 0.3116 - val_accuracy: 0.9531 - val_loss: 0.3055\n",
      "Epoch 10/20\n",
      "\u001b[1m6693/6699\u001b[0m \u001b[32m━━━━━━━━━━━━━━━━━━━\u001b[0m\u001b[37m━\u001b[0m \u001b[1m0s\u001b[0m 2ms/step - accuracy: 0.9432 - loss: 0.3089"
     ]
    }
   ],
   "source": [
    "model, history = model_1(x_train, y_train, x_test, y_test)\n",
    "\n",
    "loss, accuracy = model.evaluate(x_test, y_test, batch_size=64, verbose=1)\n",
    "\n",
    "print(\"Test Accuracy:\", accuracy)\n",
    "\n",
    "plt.plot(history.history['accuracy'], label='accuracy')\n",
    "plt.plot(history.history['val_accuracy'], label='val_accuracy')\n",
    "plt.xlabel('Epoch')\n",
    "plt.ylabel('Accuracy')\n",
    "plt.legend(loc='lower right')\n",
    "plt.show()"
   ]
  }
 ],
 "metadata": {
  "kernelspec": {
   "display_name": "venv",
   "language": "python",
   "name": "python3"
  },
  "language_info": {
   "codemirror_mode": {
    "name": "ipython",
    "version": 3
   },
   "file_extension": ".py",
   "mimetype": "text/x-python",
   "name": "python",
   "nbconvert_exporter": "python",
   "pygments_lexer": "ipython3",
   "version": "3.10.14"
  }
 },
 "nbformat": 4,
 "nbformat_minor": 2
}
