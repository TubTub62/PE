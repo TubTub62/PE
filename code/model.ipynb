{
 "cells": [
  {
   "cell_type": "markdown",
   "metadata": {},
   "source": [
    "# Install Requirements"
   ]
  },
  {
   "cell_type": "code",
   "execution_count": 3,
   "metadata": {},
   "outputs": [
    {
     "name": "stdout",
     "output_type": "stream",
     "text": [
      "Requirement already satisfied: numpy in /home/tubtub/code/PE/venv/lib/python3.10/site-packages (from -r requirements.txt (line 1)) (1.26.4)\n",
      "Requirement already satisfied: pandas in /home/tubtub/code/PE/venv/lib/python3.10/site-packages (from -r requirements.txt (line 2)) (2.2.2)\n",
      "Requirement already satisfied: aaindex in /home/tubtub/code/PE/venv/lib/python3.10/site-packages (from -r requirements.txt (line 3)) (1.1.2)\n",
      "Requirement already satisfied: scipy in /home/tubtub/code/PE/venv/lib/python3.10/site-packages (from -r requirements.txt (line 4)) (1.14.0)\n",
      "Requirement already satisfied: tables in /home/tubtub/code/PE/venv/lib/python3.10/site-packages (from -r requirements.txt (line 5)) (3.9.2)\n",
      "Requirement already satisfied: matplotlib in /home/tubtub/code/PE/venv/lib/python3.10/site-packages (from -r requirements.txt (line 6)) (3.9.1)\n",
      "Requirement already satisfied: statsmodels in /home/tubtub/code/PE/venv/lib/python3.10/site-packages (from -r requirements.txt (line 7)) (0.14.2)\n",
      "Requirement already satisfied: openpyxl in /home/tubtub/code/PE/venv/lib/python3.10/site-packages (from -r requirements.txt (line 8)) (3.1.5)\n",
      "Requirement already satisfied: tensorflow in /home/tubtub/code/PE/venv/lib/python3.10/site-packages (from -r requirements.txt (line 9)) (2.16.2)\n",
      "Requirement already satisfied: keras in /home/tubtub/code/PE/venv/lib/python3.10/site-packages (from -r requirements.txt (line 10)) (3.4.1)\n",
      "Requirement already satisfied: scikit-learn in /home/tubtub/code/PE/venv/lib/python3.10/site-packages (from -r requirements.txt (line 11)) (1.5.1)\n",
      "Requirement already satisfied: python-dateutil>=2.8.2 in /home/tubtub/code/PE/venv/lib/python3.10/site-packages (from pandas->-r requirements.txt (line 2)) (2.9.0.post0)\n",
      "Requirement already satisfied: pytz>=2020.1 in /home/tubtub/code/PE/venv/lib/python3.10/site-packages (from pandas->-r requirements.txt (line 2)) (2024.1)\n",
      "Requirement already satisfied: tzdata>=2022.7 in /home/tubtub/code/PE/venv/lib/python3.10/site-packages (from pandas->-r requirements.txt (line 2)) (2024.1)\n",
      "Requirement already satisfied: packaging in /home/tubtub/code/PE/venv/lib/python3.10/site-packages (from tables->-r requirements.txt (line 5)) (24.1)\n",
      "Requirement already satisfied: numexpr>=2.6.2 in /home/tubtub/code/PE/venv/lib/python3.10/site-packages (from tables->-r requirements.txt (line 5)) (2.10.1)\n",
      "Requirement already satisfied: py-cpuinfo in /home/tubtub/code/PE/venv/lib/python3.10/site-packages (from tables->-r requirements.txt (line 5)) (9.0.0)\n",
      "Requirement already satisfied: blosc2>=2.3.0 in /home/tubtub/code/PE/venv/lib/python3.10/site-packages (from tables->-r requirements.txt (line 5)) (2.7.0)\n",
      "Requirement already satisfied: fonttools>=4.22.0 in /home/tubtub/code/PE/venv/lib/python3.10/site-packages (from matplotlib->-r requirements.txt (line 6)) (4.53.1)\n",
      "Requirement already satisfied: kiwisolver>=1.3.1 in /home/tubtub/code/PE/venv/lib/python3.10/site-packages (from matplotlib->-r requirements.txt (line 6)) (1.4.5)\n",
      "Requirement already satisfied: pyparsing>=2.3.1 in /home/tubtub/code/PE/venv/lib/python3.10/site-packages (from matplotlib->-r requirements.txt (line 6)) (3.1.2)\n",
      "Requirement already satisfied: cycler>=0.10 in /home/tubtub/code/PE/venv/lib/python3.10/site-packages (from matplotlib->-r requirements.txt (line 6)) (0.12.1)\n",
      "Requirement already satisfied: contourpy>=1.0.1 in /home/tubtub/code/PE/venv/lib/python3.10/site-packages (from matplotlib->-r requirements.txt (line 6)) (1.2.1)\n",
      "Requirement already satisfied: pillow>=8 in /home/tubtub/code/PE/venv/lib/python3.10/site-packages (from matplotlib->-r requirements.txt (line 6)) (10.4.0)\n",
      "Requirement already satisfied: patsy>=0.5.6 in /home/tubtub/code/PE/venv/lib/python3.10/site-packages (from statsmodels->-r requirements.txt (line 7)) (0.5.6)\n",
      "Requirement already satisfied: et-xmlfile in /home/tubtub/code/PE/venv/lib/python3.10/site-packages (from openpyxl->-r requirements.txt (line 8)) (1.1.0)\n",
      "Requirement already satisfied: termcolor>=1.1.0 in /home/tubtub/code/PE/venv/lib/python3.10/site-packages (from tensorflow->-r requirements.txt (line 9)) (2.4.0)\n",
      "Requirement already satisfied: wrapt>=1.11.0 in /home/tubtub/code/PE/venv/lib/python3.10/site-packages (from tensorflow->-r requirements.txt (line 9)) (1.16.0)\n",
      "Requirement already satisfied: setuptools in /home/tubtub/code/PE/venv/lib/python3.10/site-packages (from tensorflow->-r requirements.txt (line 9)) (59.6.0)\n",
      "Requirement already satisfied: requests<3,>=2.21.0 in /home/tubtub/code/PE/venv/lib/python3.10/site-packages (from tensorflow->-r requirements.txt (line 9)) (2.32.3)\n",
      "Requirement already satisfied: six>=1.12.0 in /home/tubtub/code/PE/venv/lib/python3.10/site-packages (from tensorflow->-r requirements.txt (line 9)) (1.16.0)\n",
      "Requirement already satisfied: grpcio<2.0,>=1.24.3 in /home/tubtub/code/PE/venv/lib/python3.10/site-packages (from tensorflow->-r requirements.txt (line 9)) (1.64.1)\n",
      "Requirement already satisfied: h5py>=3.10.0 in /home/tubtub/code/PE/venv/lib/python3.10/site-packages (from tensorflow->-r requirements.txt (line 9)) (3.11.0)\n",
      "Requirement already satisfied: tensorboard<2.17,>=2.16 in /home/tubtub/code/PE/venv/lib/python3.10/site-packages (from tensorflow->-r requirements.txt (line 9)) (2.16.2)\n",
      "Requirement already satisfied: opt-einsum>=2.3.2 in /home/tubtub/code/PE/venv/lib/python3.10/site-packages (from tensorflow->-r requirements.txt (line 9)) (3.3.0)\n",
      "Requirement already satisfied: astunparse>=1.6.0 in /home/tubtub/code/PE/venv/lib/python3.10/site-packages (from tensorflow->-r requirements.txt (line 9)) (1.6.3)\n",
      "Requirement already satisfied: gast!=0.5.0,!=0.5.1,!=0.5.2,>=0.2.1 in /home/tubtub/code/PE/venv/lib/python3.10/site-packages (from tensorflow->-r requirements.txt (line 9)) (0.6.0)\n",
      "Requirement already satisfied: ml-dtypes~=0.3.1 in /home/tubtub/code/PE/venv/lib/python3.10/site-packages (from tensorflow->-r requirements.txt (line 9)) (0.3.2)\n",
      "Requirement already satisfied: typing-extensions>=3.6.6 in /home/tubtub/code/PE/venv/lib/python3.10/site-packages (from tensorflow->-r requirements.txt (line 9)) (4.12.2)\n",
      "Requirement already satisfied: protobuf!=4.21.0,!=4.21.1,!=4.21.2,!=4.21.3,!=4.21.4,!=4.21.5,<5.0.0dev,>=3.20.3 in /home/tubtub/code/PE/venv/lib/python3.10/site-packages (from tensorflow->-r requirements.txt (line 9)) (4.25.3)\n",
      "Requirement already satisfied: absl-py>=1.0.0 in /home/tubtub/code/PE/venv/lib/python3.10/site-packages (from tensorflow->-r requirements.txt (line 9)) (2.1.0)\n",
      "Requirement already satisfied: flatbuffers>=23.5.26 in /home/tubtub/code/PE/venv/lib/python3.10/site-packages (from tensorflow->-r requirements.txt (line 9)) (24.3.25)\n",
      "Requirement already satisfied: google-pasta>=0.1.1 in /home/tubtub/code/PE/venv/lib/python3.10/site-packages (from tensorflow->-r requirements.txt (line 9)) (0.2.0)\n",
      "Requirement already satisfied: tensorflow-io-gcs-filesystem>=0.23.1 in /home/tubtub/code/PE/venv/lib/python3.10/site-packages (from tensorflow->-r requirements.txt (line 9)) (0.37.1)\n",
      "Requirement already satisfied: libclang>=13.0.0 in /home/tubtub/code/PE/venv/lib/python3.10/site-packages (from tensorflow->-r requirements.txt (line 9)) (18.1.1)\n",
      "Requirement already satisfied: optree in /home/tubtub/code/PE/venv/lib/python3.10/site-packages (from keras->-r requirements.txt (line 10)) (0.12.1)\n",
      "Requirement already satisfied: rich in /home/tubtub/code/PE/venv/lib/python3.10/site-packages (from keras->-r requirements.txt (line 10)) (13.7.1)\n",
      "Requirement already satisfied: namex in /home/tubtub/code/PE/venv/lib/python3.10/site-packages (from keras->-r requirements.txt (line 10)) (0.0.8)\n",
      "Requirement already satisfied: joblib>=1.2.0 in /home/tubtub/code/PE/venv/lib/python3.10/site-packages (from scikit-learn->-r requirements.txt (line 11)) (1.4.2)\n",
      "Requirement already satisfied: threadpoolctl>=3.1.0 in /home/tubtub/code/PE/venv/lib/python3.10/site-packages (from scikit-learn->-r requirements.txt (line 11)) (3.5.0)\n",
      "Requirement already satisfied: wheel<1.0,>=0.23.0 in /home/tubtub/code/PE/venv/lib/python3.10/site-packages (from astunparse>=1.6.0->tensorflow->-r requirements.txt (line 9)) (0.43.0)\n",
      "Requirement already satisfied: ndindex>=1.4 in /home/tubtub/code/PE/venv/lib/python3.10/site-packages (from blosc2>=2.3.0->tables->-r requirements.txt (line 5)) (1.8)\n",
      "Requirement already satisfied: msgpack in /home/tubtub/code/PE/venv/lib/python3.10/site-packages (from blosc2>=2.3.0->tables->-r requirements.txt (line 5)) (1.0.8)\n",
      "Requirement already satisfied: certifi>=2017.4.17 in /home/tubtub/code/PE/venv/lib/python3.10/site-packages (from requests<3,>=2.21.0->tensorflow->-r requirements.txt (line 9)) (2024.7.4)\n",
      "Requirement already satisfied: charset-normalizer<4,>=2 in /home/tubtub/code/PE/venv/lib/python3.10/site-packages (from requests<3,>=2.21.0->tensorflow->-r requirements.txt (line 9)) (3.3.2)\n",
      "Requirement already satisfied: idna<4,>=2.5 in /home/tubtub/code/PE/venv/lib/python3.10/site-packages (from requests<3,>=2.21.0->tensorflow->-r requirements.txt (line 9)) (3.7)\n",
      "Requirement already satisfied: urllib3<3,>=1.21.1 in /home/tubtub/code/PE/venv/lib/python3.10/site-packages (from requests<3,>=2.21.0->tensorflow->-r requirements.txt (line 9)) (2.2.2)\n",
      "Requirement already satisfied: werkzeug>=1.0.1 in /home/tubtub/code/PE/venv/lib/python3.10/site-packages (from tensorboard<2.17,>=2.16->tensorflow->-r requirements.txt (line 9)) (3.0.3)\n",
      "Requirement already satisfied: markdown>=2.6.8 in /home/tubtub/code/PE/venv/lib/python3.10/site-packages (from tensorboard<2.17,>=2.16->tensorflow->-r requirements.txt (line 9)) (3.6)\n",
      "Requirement already satisfied: tensorboard-data-server<0.8.0,>=0.7.0 in /home/tubtub/code/PE/venv/lib/python3.10/site-packages (from tensorboard<2.17,>=2.16->tensorflow->-r requirements.txt (line 9)) (0.7.2)\n",
      "Requirement already satisfied: pygments<3.0.0,>=2.13.0 in /home/tubtub/code/PE/venv/lib/python3.10/site-packages (from rich->keras->-r requirements.txt (line 10)) (2.18.0)\n",
      "Requirement already satisfied: markdown-it-py>=2.2.0 in /home/tubtub/code/PE/venv/lib/python3.10/site-packages (from rich->keras->-r requirements.txt (line 10)) (3.0.0)\n",
      "Requirement already satisfied: mdurl~=0.1 in /home/tubtub/code/PE/venv/lib/python3.10/site-packages (from markdown-it-py>=2.2.0->rich->keras->-r requirements.txt (line 10)) (0.1.2)\n",
      "Requirement already satisfied: MarkupSafe>=2.1.1 in /home/tubtub/code/PE/venv/lib/python3.10/site-packages (from werkzeug>=1.0.1->tensorboard<2.17,>=2.16->tensorflow->-r requirements.txt (line 9)) (2.1.5)\n",
      "Note: you may need to restart the kernel to use updated packages.\n"
     ]
    }
   ],
   "source": [
    "pip install -r requirements.txt"
   ]
  },
  {
   "cell_type": "code",
   "execution_count": 4,
   "metadata": {},
   "outputs": [
    {
     "name": "stderr",
     "output_type": "stream",
     "text": [
      "2024-07-08 01:10:06.339694: I external/local_tsl/tsl/cuda/cudart_stub.cc:32] Could not find cuda drivers on your machine, GPU will not be used.\n",
      "2024-07-08 01:10:06.401183: I external/local_tsl/tsl/cuda/cudart_stub.cc:32] Could not find cuda drivers on your machine, GPU will not be used.\n",
      "2024-07-08 01:10:06.565442: E external/local_xla/xla/stream_executor/cuda/cuda_fft.cc:479] Unable to register cuFFT factory: Attempting to register factory for plugin cuFFT when one has already been registered\n",
      "2024-07-08 01:10:06.715995: E external/local_xla/xla/stream_executor/cuda/cuda_dnn.cc:10575] Unable to register cuDNN factory: Attempting to register factory for plugin cuDNN when one has already been registered\n",
      "2024-07-08 01:10:06.725059: E external/local_xla/xla/stream_executor/cuda/cuda_blas.cc:1442] Unable to register cuBLAS factory: Attempting to register factory for plugin cuBLAS when one has already been registered\n",
      "2024-07-08 01:10:06.979545: I tensorflow/core/platform/cpu_feature_guard.cc:210] This TensorFlow binary is optimized to use available CPU instructions in performance-critical operations.\n",
      "To enable the following instructions: AVX2 FMA, in other operations, rebuild TensorFlow with the appropriate compiler flags.\n",
      "2024-07-08 01:10:09.088617: W tensorflow/compiler/tf2tensorrt/utils/py_utils.cc:38] TF-TRT Warning: Could not find TensorRT\n"
     ]
    }
   ],
   "source": [
    "import pandas as pd\n",
    "import numpy as np\n",
    "from create_data_gb1 import create_xy\n",
    "import tensorflow as tf\n",
    "import keras\n",
    "from keras.api.layers import Dense, Flatten, Conv1D, MaxPooling1D, Dropout\n",
    "from keras.api.models import Sequential\n",
    "from sklearn.preprocessing import LabelBinarizer\n",
    "from sklearn.model_selection import train_test_split"
   ]
  },
  {
   "cell_type": "code",
   "execution_count": 5,
   "metadata": {},
   "outputs": [
    {
     "name": "stderr",
     "output_type": "stream",
     "text": [
      "/home/tubtub/code/PE/venv/lib/python3.10/site-packages/openpyxl/worksheet/_reader.py:329: UserWarning: Unknown extension is not supported and will be removed\n",
      "  warn(msg)\n"
     ]
    }
   ],
   "source": [
    "df = pd.read_excel(\"../data/gbd1_data.xlsx\", header=2, usecols=\"B:K,N:R\", nrows=250000)\n",
    "f = open(\"../data/base_gbd1.txt\")\n",
    "base = f.readline()\n",
    "f.close()"
   ]
  },
  {
   "cell_type": "code",
   "execution_count": 6,
   "metadata": {},
   "outputs": [],
   "source": [
    "mutants, fitness = create_xy(df, base)"
   ]
  },
  {
   "cell_type": "code",
   "execution_count": 7,
   "metadata": {},
   "outputs": [],
   "source": [
    "def aa_identity(aa):\n",
    "    aa_string = \"ARNDCQEGHILKMFPSTWYV\"\n",
    "    for i in range(len(aa_string)):\n",
    "        if aa == aa_string[i]:\n",
    "            return i"
   ]
  },
  {
   "cell_type": "code",
   "execution_count": 8,
   "metadata": {},
   "outputs": [],
   "source": [
    "mt = mutants[0]\n",
    "def m_identity(mt):\n",
    "    mi = np.zeros((20, len(mt)))\n",
    "    for i in range(len(mt)):\n",
    "        row = aa_identity(mt[i])\n",
    "        mi[row][i] = 1\n",
    "    return mi\n",
    "\n",
    "mutant_identity = []\n",
    "for mutant in mutants:\n",
    "    mutant_identity.append(m_identity(mutant))\n",
    "mutant_identity = np.array(mutant_identity)\n",
    "print(mutant_identity.shape)\n",
    "print(fitness.shape)"
   ]
  },
  {
   "cell_type": "code",
   "execution_count": null,
   "metadata": {},
   "outputs": [],
   "source": [
    "x_train, x_test, y_train, y_test = train_test_split(mutant_identity, fitness, test_size=0.2, shuffle=True, random_state=15)\n",
    "print(f\"{x_train.shape}\\n{x_test.shape}\\n{y_train.shape}\\n{y_test.shape}\")\n"
   ]
  },
  {
   "cell_type": "code",
   "execution_count": null,
   "metadata": {},
   "outputs": [],
   "source": [
    "def model_1(x_train, y_train, x_test, y_test, epochs=20, batch_size=64):\n",
    "    model = Sequential()\n",
    "    model.add(keras.Input((20,56)))\n",
    "    #model.add(Flatten())\n",
    "    model.add(Conv1D(filters=128, kernel_size=12, activation='relu', use_bias=True, padding='same'))\n",
    "    model.add(MaxPooling1D(2))    \n",
    "    model.add(Conv1D(filters=64, kernel_size=6, activation='relu', use_bias=True))\n",
    "    model.add(Conv1D(filters=32, kernel_size=4, activation='relu', use_bias=True))\n",
    "    model.add(Flatten())\n",
    "    model.add(Dense(128, activation='relu')) #evt tilføj dropout istedet for så mange dense layers\n",
    "    model.add(Dense(64, activation='relu'))\n",
    "    model.add(Dense(32, activation='relu'))\n",
    "    model.add(Dense(2, activation='softmax'))  # Change to the appropriate number of classes for multi-class classification\n",
    "    model.summary()\n",
    "    model.compile(loss='mse', optimizer='adam', metrics=['accuracy'])\n",
    "    history = model.fit(x_train, y_train, epochs=epochs, batch_size=batch_size, verbose=1, validation_data=(x_test, y_test))\n",
    "    return model, history"
   ]
  },
  {
   "cell_type": "code",
   "execution_count": null,
   "metadata": {},
   "outputs": [],
   "source": [
    "model, history = model_1(x_train, y_train, x_test, y_test)"
   ]
  }
 ],
 "metadata": {
  "kernelspec": {
   "display_name": "venv",
   "language": "python",
   "name": "python3"
  },
  "language_info": {
   "codemirror_mode": {
    "name": "ipython",
    "version": 3
   },
   "file_extension": ".py",
   "mimetype": "text/x-python",
   "name": "python",
   "nbconvert_exporter": "python",
   "pygments_lexer": "ipython3",
   "version": "3.10.12"
  }
 },
 "nbformat": 4,
 "nbformat_minor": 2
}
