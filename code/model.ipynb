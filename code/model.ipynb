{
 "cells": [
  {
   "cell_type": "markdown",
   "metadata": {},
   "source": [
    "# Install Requirements"
   ]
  },
  {
   "cell_type": "code",
   "execution_count": 1,
   "metadata": {},
   "outputs": [
    {
     "name": "stdout",
     "output_type": "stream",
     "text": [
      "Requirement already satisfied: numpy in /home/tubtub/code/PE/venv/lib/python3.10/site-packages (from -r requirements.txt (line 1)) (2.0.0)\n",
      "Requirement already satisfied: pandas in /home/tubtub/code/PE/venv/lib/python3.10/site-packages (from -r requirements.txt (line 2)) (2.2.2)\n",
      "Requirement already satisfied: aaindex in /home/tubtub/code/PE/venv/lib/python3.10/site-packages (from -r requirements.txt (line 3)) (1.1.2)\n",
      "Requirement already satisfied: pytz>=2020.1 in /home/tubtub/code/PE/venv/lib/python3.10/site-packages (from pandas->-r requirements.txt (line 2)) (2024.1)\n",
      "Requirement already satisfied: python-dateutil>=2.8.2 in /home/tubtub/code/PE/venv/lib/python3.10/site-packages (from pandas->-r requirements.txt (line 2)) (2.9.0.post0)\n",
      "Requirement already satisfied: tzdata>=2022.7 in /home/tubtub/code/PE/venv/lib/python3.10/site-packages (from pandas->-r requirements.txt (line 2)) (2024.1)\n",
      "Requirement already satisfied: six>=1.5 in /home/tubtub/code/PE/venv/lib/python3.10/site-packages (from python-dateutil>=2.8.2->pandas->-r requirements.txt (line 2)) (1.16.0)\n",
      "Note: you may need to restart the kernel to use updated packages.\n"
     ]
    }
   ],
   "source": [
    "pip install -r requirements.txt"
   ]
  },
  {
   "cell_type": "code",
   "execution_count": 1,
   "metadata": {},
   "outputs": [],
   "source": [
    "import pandas as pd\n",
    "import numpy as np\n",
    "from aaindex import aaindex1"
   ]
  },
  {
   "cell_type": "code",
   "execution_count": 6,
   "metadata": {},
   "outputs": [
    {
     "name": "stdout",
     "output_type": "stream",
     "text": [
      "              Name  Ex max (nm)  Em max (nm)  Stokes Shift (nm)  \\\n",
      "16         mBaoJin        500.0        508.0                8.0   \n",
      "32      mNeonGreen        506.0        517.0               11.0   \n",
      "48   FusionRed-MQV        566.0        585.0               19.0   \n",
      "74           SYFP2        515.0        527.0               12.0   \n",
      "84          mVenus        515.0        527.0               12.0   \n",
      "131          Venus        515.0        528.0               13.0   \n",
      "166           EYFP        513.0        527.0               14.0   \n",
      "212        eqFP611        559.0        611.0               52.0   \n",
      "229           EGFP        488.0        507.0               19.0   \n",
      "236         TagBFP        402.0        457.0               55.0   \n",
      "237         smURFP        642.0        670.0               28.0   \n",
      "365         mBeRFP        446.0        611.0              165.0   \n",
      "411        Azurite        383.0        447.0               64.0   \n",
      "\n",
      "    Extinction Coefficient  Quantum Yield  Brightness   pKa Oligomerization  \\\n",
      "16                  128000           0.93      119.04  4.37               m   \n",
      "32                  116000           0.80       92.80  5.70               m   \n",
      "48                  144000           0.53       76.32  4.60               m   \n",
      "74                  101000           0.68       68.68  6.00               m   \n",
      "84                  104000           0.64       66.56  5.50               m   \n",
      "131                  92200           0.57       52.55  6.00              wd   \n",
      "166                  67000           0.67       44.89  6.90              wd   \n",
      "212                  78000           0.45       35.10  3.84               t   \n",
      "229                  55900           0.60       33.54  6.00              wd   \n",
      "236                  52000           0.63       32.76  2.70               m   \n",
      "237                 180000           0.18       32.40  3.20               d   \n",
      "365                  65000           0.27       17.55  5.60               m   \n",
      "411                  26200           0.55       14.41  5.00              wd   \n",
      "\n",
      "     Maturation (min)  Lifetime (ns)  Molecular Weight (kDa) Switch Type  \\\n",
      "16                7.6           3.10                   26.58           b   \n",
      "32               10.0           3.10                   26.65           b   \n",
      "48              195.0           2.77                   25.59           b   \n",
      "74                4.1           2.90                   26.88           b   \n",
      "84               17.6           2.70                   26.89           b   \n",
      "131              17.6           3.00                   26.84           b   \n",
      "166               9.0           3.10                   26.99           b   \n",
      "212             270.0           2.50                   26.05           b   \n",
      "229              25.0           2.60                   26.94           b   \n",
      "236              13.0           2.60                   26.28           b   \n",
      "237              39.0           1.40                   14.96           b   \n",
      "365              60.0           2.00                   26.38           b   \n",
      "411              18.0           3.65                   26.88           b   \n",
      "\n",
      "                                 Aliases  \n",
      "16                        mBJ, mStayGold  \n",
      "32                                   mNG  \n",
      "48                                FR-MQV  \n",
      "74                             mVenus NB  \n",
      "84                            mVenus JBC  \n",
      "131                           SEYFP-F46L  \n",
      "166                                  10C  \n",
      "212                              equaRFP  \n",
      "229                enhanced GFP, GFPmut1  \n",
      "236                              mTagBFP  \n",
      "237  small Ultra Red Fluorescent Protein  \n",
      "365     monomeric Blue light-excited RFP  \n",
      "411                               BFP.B3  \n"
     ]
    }
   ],
   "source": [
    "df = pd.read_csv(\"../data/fp/FPbase Table of Fluorescent Protein Properties.csv\")\n",
    "df = df.dropna()\n",
    "print(df)"
   ]
  }
 ],
 "metadata": {
  "kernelspec": {
   "display_name": "venv",
   "language": "python",
   "name": "python3"
  },
  "language_info": {
   "codemirror_mode": {
    "name": "ipython",
    "version": 3
   },
   "file_extension": ".py",
   "mimetype": "text/x-python",
   "name": "python",
   "nbconvert_exporter": "python",
   "pygments_lexer": "ipython3",
   "version": "3.10.12"
  }
 },
 "nbformat": 4,
 "nbformat_minor": 2
}
